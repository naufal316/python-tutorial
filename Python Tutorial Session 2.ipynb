{
 "cells": [
  {
   "cell_type": "markdown",
   "metadata": {},
   "source": [
    "# Python Tutorial Session 2"
   ]
  },
  {
   "cell_type": "markdown",
   "metadata": {},
   "source": [
    "## Sets and Tuples"
   ]
  },
  {
   "cell_type": "markdown",
   "metadata": {},
   "source": [
    "Difference between Sets and Tuples:\n",
    "Tuples are immutable and unordered and may have duplicate entries\n",
    "Sets are immutable and ordered and will NEVER have duplicates"
   ]
  },
  {
   "cell_type": "code",
   "execution_count": 3,
   "metadata": {},
   "outputs": [
    {
     "name": "stdout",
     "output_type": "stream",
     "text": [
      "2\n"
     ]
    },
    {
     "ename": "TypeError",
     "evalue": "'tuple' object does not support item assignment",
     "output_type": "error",
     "traceback": [
      "\u001b[0;31m---------------------------------------------------------------------------\u001b[0m",
      "\u001b[0;31mTypeError\u001b[0m                                 Traceback (most recent call last)",
      "\u001b[0;32m<ipython-input-3-4574e9a1780a>\u001b[0m in \u001b[0;36m<module>\u001b[0;34m\u001b[0m\n\u001b[1;32m      5\u001b[0m \u001b[0mprint\u001b[0m\u001b[0;34m(\u001b[0m\u001b[0mt\u001b[0m\u001b[0;34m.\u001b[0m\u001b[0mindex\u001b[0m\u001b[0;34m(\u001b[0m\u001b[0;36m3\u001b[0m\u001b[0;34m)\u001b[0m\u001b[0;34m)\u001b[0m\u001b[0;34m\u001b[0m\u001b[0;34m\u001b[0m\u001b[0m\n\u001b[1;32m      6\u001b[0m \u001b[0;34m\u001b[0m\u001b[0m\n\u001b[0;32m----> 7\u001b[0;31m \u001b[0mt\u001b[0m\u001b[0;34m[\u001b[0m\u001b[0;36m2\u001b[0m\u001b[0;34m]\u001b[0m \u001b[0;34m=\u001b[0m \u001b[0;36m4\u001b[0m\u001b[0;34m\u001b[0m\u001b[0;34m\u001b[0m\u001b[0m\n\u001b[0m",
      "\u001b[0;31mTypeError\u001b[0m: 'tuple' object does not support item assignment"
     ]
    }
   ],
   "source": [
    "# Example of Tuple\n",
    "\n",
    "t = tuple([1, 2, 3, 2, 3])\n",
    "\n",
    "print(t.index(3))\n",
    "\n",
    "t[2] = 4"
   ]
  },
  {
   "cell_type": "code",
   "execution_count": 13,
   "metadata": {},
   "outputs": [
    {
     "name": "stdout",
     "output_type": "stream",
     "text": [
      "(1, 2, 3, 4, 6, 6)\n"
     ]
    },
    {
     "data": {
      "text/plain": [
       "2"
      ]
     },
     "execution_count": 13,
     "metadata": {},
     "output_type": "execute_result"
    }
   ],
   "source": [
    "\n",
    "\n",
    "a_tuple = tuple([1, 2, 3, 4, 6, 6])\n",
    "\n",
    "print(a_tuple)\n",
    "\n",
    "# a_tuple[0] = 10\n",
    "a_tuple.count(6)\n",
    "\n",
    "\n"
   ]
  },
  {
   "cell_type": "code",
   "execution_count": 15,
   "metadata": {},
   "outputs": [
    {
     "name": "stdout",
     "output_type": "stream",
     "text": [
      "{1, 2, 3, 4, 5, 6, 7, 8, 9, 10}\n"
     ]
    }
   ],
   "source": [
    "# Example of a set\n",
    "\n",
    "l = [1, 2, 4, 4, 3, 5, 6, 7, 8, 9 ,9, 10]\n",
    "set_l = set(l)\n",
    "print(set_l)\n",
    "\n",
    "# print([i for i in set_l])\n",
    "\n",
    "\n",
    "# try:\n",
    "#     set_l[2] = 3\n",
    "# except Exception as err:\n",
    "#     print(\"Error is as follows: {0}\".format(err))\n",
    "\n",
    "# set_l.add(11)\n",
    "# set_m = {1, 2, 4, 5, 8, 9, 11, 12, 13, 15, 16, 14, 17, 16, 14, 1}\n",
    "\n",
    "# print(set_l)\n",
    "# print(set_l.intersection(set_m))\n",
    "# print(set_l.union(set_m))\n"
   ]
  },
  {
   "cell_type": "markdown",
   "metadata": {},
   "source": [
    "## String Manipulation"
   ]
  },
  {
   "cell_type": "markdown",
   "metadata": {},
   "source": [
    "String is an array of bytes representing unicode characters"
   ]
  },
  {
   "cell_type": "code",
   "execution_count": 65,
   "metadata": {},
   "outputs": [
    {
     "name": "stdout",
     "output_type": "stream",
     "text": [
      "Hello, my name is naufal\n",
      "hello, my name is hello, this is a string\n",
      "hello, my name is naufal\n",
      "hello, my name is naufal and my favourite number is 1212.11\n",
      "\n",
      "select * from some_table where some_col = some_val\n",
      "\n"
     ]
    }
   ],
   "source": [
    "# How to find index of a substring or particular character within a string\n",
    "some_string = \"hello, this is a string\"\n",
    "some_string.find(\"hello\")\n",
    "\n",
    "# Formattting type 1\n",
    "string_Two = \"Hello, my name is %s\"\n",
    "print(string_Two % \"naufal\")\n",
    "\n",
    "# Formatting type 2\n",
    "string_three = f\"hello, my name is {some_string}\"\n",
    "print(string_three)\n",
    "\n",
    "# Formatting type 3 (r at the front used in regular expressions)\n",
    "string_four = r\"hello, my name is {0}\"\n",
    "print(string_four.format(\"naufal\"))\n",
    "\n",
    "\n",
    "# Formatting type 4\n",
    "string_five = \"hello, my name is {0} and my favourite number is {1}\".format(\"naufal\", \"{:0.2f}\".format(float(1212.1124318839)))\n",
    "print(string_five)\n",
    "\n",
    "# Alternative way of declaring strings, I tend to use this for Database queries\n",
    "another_string = \"\"\"\n",
    "select * from some_table where some_col = some_val\n",
    "\"\"\"\n",
    "\n",
    "print(another_string)"
   ]
  },
  {
   "cell_type": "markdown",
   "metadata": {},
   "source": [
    "## Conditional Statements (if, elif, else)"
   ]
  },
  {
   "cell_type": "code",
   "execution_count": 63,
   "metadata": {},
   "outputs": [
    {
     "name": "stdout",
     "output_type": "stream",
     "text": [
      "8 is an Even Number\n"
     ]
    }
   ],
   "source": [
    "import math\n",
    "from random import randint\n",
    "\n",
    "ran_num = randint(1, 100)\n",
    "\n",
    "if ran_num % 2 == 0:\n",
    "    print(f\"{ran_num} is an Even Number\")\n",
    "elif ran_num % 3 == 0:\n",
    "    print(f\"{ran_num} is divisible by 3\")\n",
    "elif ran_num % 2 == 1:\n",
    "    print(f\"{ran_num} leaves a remainder of 1 if divided by 2\")\n",
    "else:\n",
    "    print(\"{0}\".format(ran_num))\n"
   ]
  },
  {
   "cell_type": "markdown",
   "metadata": {},
   "source": [
    "## Loops (while and for)"
   ]
  },
  {
   "cell_type": "markdown",
   "metadata": {},
   "source": [
    "Quick difference between for and while: for is finite loop which ends at particular interval. While is infinite and will only end with a break condition"
   ]
  },
  {
   "cell_type": "code",
   "execution_count": 85,
   "metadata": {},
   "outputs": [
    {
     "name": "stdout",
     "output_type": "stream",
     "text": [
      "0\n",
      "1\n",
      "2\n",
      "3\n",
      "4\n",
      "5\n",
      "6\n",
      "7\n",
      "8\n",
      "9\n",
      "1\n",
      "2\n",
      "3\n",
      "4\n"
     ]
    }
   ],
   "source": [
    "# Examples\n",
    "\n",
    "for i in range(10):\n",
    "    print(i)\n",
    "    \n",
    "count = 1\n",
    "while count <= 10:\n",
    "    print(count)\n",
    "    count += 1\n",
    "    if count == 5:\n",
    "        break\n",
    "    "
   ]
  },
  {
   "cell_type": "markdown",
   "metadata": {},
   "source": [
    "## Methods and Functions"
   ]
  },
  {
   "cell_type": "code",
   "execution_count": null,
   "metadata": {},
   "outputs": [],
   "source": []
  },
  {
   "cell_type": "code",
   "execution_count": null,
   "metadata": {},
   "outputs": [],
   "source": []
  }
 ],
 "metadata": {
  "kernelspec": {
   "display_name": "Python 3",
   "language": "python",
   "name": "python3"
  },
  "language_info": {
   "codemirror_mode": {
    "name": "ipython",
    "version": 3
   },
   "file_extension": ".py",
   "mimetype": "text/x-python",
   "name": "python",
   "nbconvert_exporter": "python",
   "pygments_lexer": "ipython3",
   "version": "3.7.4"
  }
 },
 "nbformat": 4,
 "nbformat_minor": 4
}
