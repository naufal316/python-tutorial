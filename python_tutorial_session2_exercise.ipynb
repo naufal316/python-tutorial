{
 "cells": [
  {
   "cell_type": "markdown",
   "metadata": {},
   "source": [
    "# Python Session 2 Exercises"
   ]
  },
  {
   "cell_type": "markdown",
   "metadata": {},
   "source": [
    "Given the following list of numbers:\n",
    "\n",
    "l = [1, 2, 3, 4, 5, 5, 3, 3, 8, 7, 5, 4, 6, 7, 8, 9, 10]\n",
    "\n",
    "Perform the following tasks:\n",
    "1) Count the number of times the number 5 appears in the list\n",
    "\n",
    "2) Add a new number to the list\n",
    "\n",
    "3) Remove the seventh item in the list and count the number of items in the list\n",
    "\n",
    "Bonus Question:\n",
    "Using a combination of what we have learnt so far, as well as the above list, perform a de-dupe of the list i.e. make sure the list has unique values and no repeats. Expected result is as follows:\n",
    "\n",
    "[1, 2, 3, 4, 5, 6, 7, 8, 9, 10]\n",
    "\n",
    "Hint: Use what we have covered so far from tuples, sets, dictionaries and lists\n",
    "\n",
    "\n",
    "Bigger bonus:\n",
    "\n",
    "We have a list of numbers ranging from 1 to 100 i.e.\n",
    "\n",
    "l = [1, ..., 100] or\n",
    "l = range(1, 101)\n",
    "\n",
    "Find all of the numbers that are divisible by 3 and generate a separate list containing those numbers. Expected output below\n",
    "\n",
    "Hint: n % m represents some number n that is divisble by m i.e. n % m = 0"
   ]
  },
  {
   "cell_type": "code",
   "execution_count": null,
   "metadata": {},
   "outputs": [],
   "source": []
  },
  {
   "cell_type": "code",
   "execution_count": 5,
   "metadata": {},
   "outputs": [
    {
     "name": "stdout",
     "output_type": "stream",
     "text": [
      "[3, 6, 9, 12, 15, 18, 21, 24, 27, 30, 33, 36, 39, 42, 45, 48, 51, 54, 57, 60, 63, 66, 69, 72, 75, 78, 81, 84, 87, 90, 93, 96, 99]\n"
     ]
    }
   ],
   "source": [
    "# Bigger bonus question answer"
   ]
  }
 ],
 "metadata": {
  "kernelspec": {
   "display_name": "Python 3",
   "language": "python",
   "name": "python3"
  },
  "language_info": {
   "codemirror_mode": {
    "name": "ipython",
    "version": 3
   },
   "file_extension": ".py",
   "mimetype": "text/x-python",
   "name": "python",
   "nbconvert_exporter": "python",
   "pygments_lexer": "ipython3",
   "version": "3.7.4"
  }
 },
 "nbformat": 4,
 "nbformat_minor": 4
}
